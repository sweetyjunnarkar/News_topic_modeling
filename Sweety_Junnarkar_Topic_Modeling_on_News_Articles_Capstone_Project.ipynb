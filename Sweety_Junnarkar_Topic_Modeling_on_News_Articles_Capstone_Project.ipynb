{
  "nbformat": 4,
  "nbformat_minor": 0,
  "metadata": {
    "kernelspec": {
      "display_name": "Python 3",
      "language": "python",
      "name": "python3"
    },
    "language_info": {
      "codemirror_mode": {
        "name": "ipython",
        "version": 3
      },
      "file_extension": ".py",
      "mimetype": "text/x-python",
      "name": "python",
      "nbconvert_exporter": "python",
      "pygments_lexer": "ipython3",
      "version": "3.6.6"
    },
    "colab": {
      "name": "Sweety Junnarkar - Topic Modeling on News Articles - Capstone Project.ipynb",
      "provenance": [],
      "collapsed_sections": [],
      "include_colab_link": true
    }
  },
  "cells": [
    {
      "cell_type": "markdown",
      "metadata": {
        "id": "view-in-github",
        "colab_type": "text"
      },
      "source": [
        "<a href=\"https://colab.research.google.com/github/sweetyjunnarkar/News_topic_modeling/blob/main/Sweety_Junnarkar_Topic_Modeling_on_News_Articles_Capstone_Project.ipynb\" target=\"_parent\"><img src=\"https://colab.research.google.com/assets/colab-badge.svg\" alt=\"Open In Colab\"/></a>"
      ]
    },
    {
      "cell_type": "markdown",
      "metadata": {
        "id": "tOGC-qoyhJeX"
      },
      "source": [
        "# <b><u> Project Title : Extraction/identification of major topics & themes discussed in news articles. </u></b>"
      ]
    },
    {
      "cell_type": "markdown",
      "metadata": {
        "id": "Y06xIdG26kRF"
      },
      "source": [
        "## <b> Problem Description </b>\n",
        "\n",
        "### In this project your task is to identify major themes/topics across a collection of BBC news articles. You can use clustering algorithms such as Latent Dirichlet Allocation (LDA), Latent Semantic Analysis (LSA) etc."
      ]
    },
    {
      "cell_type": "markdown",
      "metadata": {
        "id": "AlLxAtlziMbP"
      },
      "source": [
        "## <b> Data Description </b>\r\n",
        "\r\n",
        "### The dataset contains a set of news articles for each major segment consisting of business, entertainment, politics, sports and technology. You need to create an aggregate dataset of all the news articles and perform topic modeling on this dataset. Verify whether these topics correspond to the different tags available."
      ]
    },
    {
      "cell_type": "code",
      "metadata": {
        "id": "Rmg2jttFkm7L",
        "colab": {
          "base_uri": "https://localhost:8080/"
        },
        "outputId": "f1725691-d92e-4b3c-e58f-d8ff52b6249e"
      },
      "source": [
        "from google.colab import drive\n",
        "drive.mount('/content/drive')"
      ],
      "execution_count": 2,
      "outputs": [
        {
          "output_type": "stream",
          "text": [
            "Drive already mounted at /content/drive; to attempt to forcibly remount, call drive.mount(\"/content/drive\", force_remount=True).\n"
          ],
          "name": "stdout"
        }
      ]
    },
    {
      "cell_type": "code",
      "metadata": {
        "id": "dByMsuzT8Tnw",
        "colab": {
          "base_uri": "https://localhost:8080/"
        },
        "outputId": "206e2f97-8e20-4dcf-ee6e-e3fd13fbda2d"
      },
      "source": [
        "import pandas as pd\r\n",
        "import numpy as np\r\n",
        "import string\r\n",
        "import glob\r\n",
        "import os\r\n",
        "import matplotlib.pyplot as plt\r\n",
        "import seaborn as sns\r\n",
        "import nltk\r\n",
        "from nltk.corpus import stopwords\r\n",
        "from sklearn.feature_extraction.text import TfidfVectorizer\r\n",
        "from wordcloud import WordCloud\r\n",
        "from sklearn.feature_extraction.text import CountVectorizer\r\n",
        "import spacy\r\n",
        "nltk.download('stopwords')"
      ],
      "execution_count": 3,
      "outputs": [
        {
          "output_type": "stream",
          "text": [
            "[nltk_data] Downloading package stopwords to /root/nltk_data...\n",
            "[nltk_data]   Unzipping corpora/stopwords.zip.\n"
          ],
          "name": "stdout"
        },
        {
          "output_type": "execute_result",
          "data": {
            "text/plain": [
              "True"
            ]
          },
          "metadata": {
            "tags": []
          },
          "execution_count": 3
        }
      ]
    },
    {
      "cell_type": "code",
      "metadata": {
        "id": "oGi75KymlDa3"
      },
      "source": [
        "News=[]\r\n",
        "Type=[]\r\n",
        "path=\"/content/drive/MyDrive/AlmaBetter/Cohort Aravali/Module 4/Week 4/Topic Modeling on News Article/BBC\"\r\n",
        "folders=[\"business\",\"entertainment\",\"politics\",\"sport\",\"tech\"] \r\n",
        "for i in folders:\r\n",
        "    files=os.listdir(path+'/'+i)\r\n",
        "    for text_file in files:\r\n",
        "        file_path=path + '/'+i+'/'+text_file\r\n",
        "        with open(file_path,'rb') as f:\r\n",
        "            data=f.read()\r\n",
        "        News.append(data)\r\n",
        "        Type.append(i)\r\n",
        "\r\n",
        "data={'news':News,'type':Type}\r\n",
        "df = pd.DataFrame(data)"
      ],
      "execution_count": 9,
      "outputs": []
    },
    {
      "cell_type": "code",
      "metadata": {
        "id": "Jm4e4QsXlm56",
        "colab": {
          "base_uri": "https://localhost:8080/",
          "height": 195
        },
        "outputId": "d5e73f37-5e9a-4428-ca97-f1e8cd57e956"
      },
      "source": [
        "df.head()"
      ],
      "execution_count": 10,
      "outputs": [
        {
          "output_type": "execute_result",
          "data": {
            "text/html": [
              "<div>\n",
              "<style scoped>\n",
              "    .dataframe tbody tr th:only-of-type {\n",
              "        vertical-align: middle;\n",
              "    }\n",
              "\n",
              "    .dataframe tbody tr th {\n",
              "        vertical-align: top;\n",
              "    }\n",
              "\n",
              "    .dataframe thead th {\n",
              "        text-align: right;\n",
              "    }\n",
              "</style>\n",
              "<table border=\"1\" class=\"dataframe\">\n",
              "  <thead>\n",
              "    <tr style=\"text-align: right;\">\n",
              "      <th></th>\n",
              "      <th>news</th>\n",
              "      <th>type</th>\n",
              "    </tr>\n",
              "  </thead>\n",
              "  <tbody>\n",
              "    <tr>\n",
              "      <th>0</th>\n",
              "      <td>b'FBI agent colludes with analyst\\n\\nA former ...</td>\n",
              "      <td>business</td>\n",
              "    </tr>\n",
              "    <tr>\n",
              "      <th>1</th>\n",
              "      <td>b\"India's Maruti sees profits jump\\n\\nIndia's ...</td>\n",
              "      <td>business</td>\n",
              "    </tr>\n",
              "    <tr>\n",
              "      <th>2</th>\n",
              "      <td>b'UK young top Euro earnings league\\n\\nBritish...</td>\n",
              "      <td>business</td>\n",
              "    </tr>\n",
              "    <tr>\n",
              "      <th>3</th>\n",
              "      <td>b'Virgin Blue shares plummet 20%\\n\\nShares in ...</td>\n",
              "      <td>business</td>\n",
              "    </tr>\n",
              "    <tr>\n",
              "      <th>4</th>\n",
              "      <td>b'China suspends 26 power projects\\n\\nChina ha...</td>\n",
              "      <td>business</td>\n",
              "    </tr>\n",
              "  </tbody>\n",
              "</table>\n",
              "</div>"
            ],
            "text/plain": [
              "                                                news      type\n",
              "0  b'FBI agent colludes with analyst\\n\\nA former ...  business\n",
              "1  b\"India's Maruti sees profits jump\\n\\nIndia's ...  business\n",
              "2  b'UK young top Euro earnings league\\n\\nBritish...  business\n",
              "3  b'Virgin Blue shares plummet 20%\\n\\nShares in ...  business\n",
              "4  b'China suspends 26 power projects\\n\\nChina ha...  business"
            ]
          },
          "metadata": {
            "tags": []
          },
          "execution_count": 10
        }
      ]
    },
    {
      "cell_type": "code",
      "metadata": {
        "colab": {
          "base_uri": "https://localhost:8080/"
        },
        "id": "C6mJqWFqHgH8",
        "outputId": "f257514e-682b-414b-805e-d6427ea0ab93"
      },
      "source": [
        "df.info()"
      ],
      "execution_count": 11,
      "outputs": [
        {
          "output_type": "stream",
          "text": [
            "<class 'pandas.core.frame.DataFrame'>\n",
            "RangeIndex: 2225 entries, 0 to 2224\n",
            "Data columns (total 2 columns):\n",
            " #   Column  Non-Null Count  Dtype \n",
            "---  ------  --------------  ----- \n",
            " 0   news    2225 non-null   object\n",
            " 1   type    2225 non-null   object\n",
            "dtypes: object(2)\n",
            "memory usage: 34.9+ KB\n"
          ],
          "name": "stdout"
        }
      ]
    },
    {
      "cell_type": "code",
      "metadata": {
        "id": "jCr4x_Man21y",
        "colab": {
          "base_uri": "https://localhost:8080/"
        },
        "outputId": "f9e28d54-5a77-4d9b-85d0-a71e52a8733d"
      },
      "source": [
        "df.shape"
      ],
      "execution_count": 12,
      "outputs": [
        {
          "output_type": "execute_result",
          "data": {
            "text/plain": [
              "(2225, 2)"
            ]
          },
          "metadata": {
            "tags": []
          },
          "execution_count": 12
        }
      ]
    },
    {
      "cell_type": "code",
      "metadata": {
        "id": "f6OwT3dMn_b_",
        "colab": {
          "base_uri": "https://localhost:8080/",
          "height": 350
        },
        "outputId": "12c743de-4af7-4a8f-f159-0a58112f589e"
      },
      "source": [
        "sns.countplot(df.type)"
      ],
      "execution_count": 14,
      "outputs": [
        {
          "output_type": "stream",
          "text": [
            "/usr/local/lib/python3.6/dist-packages/seaborn/_decorators.py:43: FutureWarning: Pass the following variable as a keyword arg: x. From version 0.12, the only valid positional argument will be `data`, and passing other arguments without an explicit keyword will result in an error or misinterpretation.\n",
            "  FutureWarning\n"
          ],
          "name": "stderr"
        },
        {
          "output_type": "execute_result",
          "data": {
            "text/plain": [
              "<matplotlib.axes._subplots.AxesSubplot at 0x7ff33517e3c8>"
            ]
          },
          "metadata": {
            "tags": []
          },
          "execution_count": 14
        },
        {
          "output_type": "display_data",
          "data": {
            "image/png": "[encoded data removed]",
            "text/plain": [
              "<Figure size 432x288 with 1 Axes>"
            ]
          },
          "metadata": {
            "tags": [],
            "needs_background": "light"
          }
        }
      ]
    },
    {
      "cell_type": "code",
      "metadata": {
        "id": "bo67gltWIy7M"
      },
      "source": [
        "news_df=df.copy()"
      ],
      "execution_count": 20,
      "outputs": []
    },
    {
      "cell_type": "code",
      "metadata": {
        "colab": {
          "base_uri": "https://localhost:8080/",
          "height": 195
        },
        "id": "ucs5-ienI6Xc",
        "outputId": "d017020d-37fa-454e-bc79-291430e557d9"
      },
      "source": [
        "news_df.head()"
      ],
      "execution_count": 22,
      "outputs": [
        {
          "output_type": "execute_result",
          "data": {
            "text/html": [
              "<div>\n",
              "<style scoped>\n",
              "    .dataframe tbody tr th:only-of-type {\n",
              "        vertical-align: middle;\n",
              "    }\n",
              "\n",
              "    .dataframe tbody tr th {\n",
              "        vertical-align: top;\n",
              "    }\n",
              "\n",
              "    .dataframe thead th {\n",
              "        text-align: right;\n",
              "    }\n",
              "</style>\n",
              "<table border=\"1\" class=\"dataframe\">\n",
              "  <thead>\n",
              "    <tr style=\"text-align: right;\">\n",
              "      <th></th>\n",
              "      <th>news</th>\n",
              "      <th>type</th>\n",
              "    </tr>\n",
              "  </thead>\n",
              "  <tbody>\n",
              "    <tr>\n",
              "      <th>0</th>\n",
              "      <td>b'FBI agent colludes with analyst\\n\\nA former ...</td>\n",
              "      <td>business</td>\n",
              "    </tr>\n",
              "    <tr>\n",
              "      <th>1</th>\n",
              "      <td>b\"India's Maruti sees profits jump\\n\\nIndia's ...</td>\n",
              "      <td>business</td>\n",
              "    </tr>\n",
              "    <tr>\n",
              "      <th>2</th>\n",
              "      <td>b'UK young top Euro earnings league\\n\\nBritish...</td>\n",
              "      <td>business</td>\n",
              "    </tr>\n",
              "    <tr>\n",
              "      <th>3</th>\n",
              "      <td>b'Virgin Blue shares plummet 20%\\n\\nShares in ...</td>\n",
              "      <td>business</td>\n",
              "    </tr>\n",
              "    <tr>\n",
              "      <th>4</th>\n",
              "      <td>b'China suspends 26 power projects\\n\\nChina ha...</td>\n",
              "      <td>business</td>\n",
              "    </tr>\n",
              "  </tbody>\n",
              "</table>\n",
              "</div>"
            ],
            "text/plain": [
              "                                                news      type\n",
              "0  b'FBI agent colludes with analyst\\n\\nA former ...  business\n",
              "1  b\"India's Maruti sees profits jump\\n\\nIndia's ...  business\n",
              "2  b'UK young top Euro earnings league\\n\\nBritish...  business\n",
              "3  b'Virgin Blue shares plummet 20%\\n\\nShares in ...  business\n",
              "4  b'China suspends 26 power projects\\n\\nChina ha...  business"
            ]
          },
          "metadata": {
            "tags": []
          },
          "execution_count": 22
        }
      ]
    },
    {
      "cell_type": "code",
      "metadata": {
        "id": "gTNzEcQhoEWC",
        "colab": {
          "base_uri": "https://localhost:8080/"
        },
        "outputId": "d0e489b4-4e70-43d7-c227-1165d9fdb5fe"
      },
      "source": [
        "new=news_df['news'][0]\r\n",
        "new"
      ],
      "execution_count": 23,
      "outputs": [
        {
          "output_type": "execute_result",
          "data": {
            "text/plain": [
              "b'FBI agent colludes with analyst\\n\\nA former FBI agent and an internet stock picker have been found guilty of using confidential US government information to manipulate stock prices.\\n\\nA New York court ruled that former FBI man Jeffrey Royer, 41, fed damaging information to Anthony Elgindy, 36. Mr Elgindy then drove share prices lower by spreading negative publicity via his newsletter. The Egyptian-born analyst would extort money from his targets in return for stopping the attacks, prosecutors said. \"Under the guise of protecting investors from fraud, Royer and Elgindy used the FBI\\'s crime-fighting tools and resources actually to defraud the public,\" said US Attorney Roslynn Mauskopf.\\n\\nMr Royer was convicted of racketeering, securities fraud, obstruction of justice and witness tampering. Mr Elgindy was convicted of racketeering, securities fraud and extortion.\\n\\nThe charges carry sentences of up to 20 years. When the guilty verdict was announced by the jury foreman, Mr Elgindy dropped his face into his hands and sobbed, the Associated Press news agency reported. He was led weeping from the court room by US marshals, AP said. Defense lawyers contended that Mr Royer had been feeding information to Mr Elgindy and another trader in an attempt to expose corporate fraud. Mr Elgindy\\'s team claimed that he also was fighting against corporate wrongdoing. \"Elgindy\\'s conviction marks the end of his public charade as a crusader against fraud in the market,\" said Ms Mauskopf. One of the more bizarre aspects of the trial focused on the claims that Mr Elgindy may have had foreknowledge of the 11 September terrorist attacks in New York and Washington. Mr Elgindy had been trying to sell stock prior to the attack and had predicted a slump in the market. No charges were brought in relation to these allegations.\\n'"
            ]
          },
          "metadata": {
            "tags": []
          },
          "execution_count": 23
        }
      ]
    },
    {
      "cell_type": "code",
      "metadata": {
        "id": "G_BizvqHuQMH",
        "colab": {
          "base_uri": "https://localhost:8080/"
        },
        "outputId": "114ca1f7-8194-4519-99d0-9600220bf7a0"
      },
      "source": [
        "new[0:]"
      ],
      "execution_count": 24,
      "outputs": [
        {
          "output_type": "execute_result",
          "data": {
            "text/plain": [
              "b'FBI agent colludes with analyst\\n\\nA former FBI agent and an internet stock picker have been found guilty of using confidential US government information to manipulate stock prices.\\n\\nA New York court ruled that former FBI man Jeffrey Royer, 41, fed damaging information to Anthony Elgindy, 36. Mr Elgindy then drove share prices lower by spreading negative publicity via his newsletter. The Egyptian-born analyst would extort money from his targets in return for stopping the attacks, prosecutors said. \"Under the guise of protecting investors from fraud, Royer and Elgindy used the FBI\\'s crime-fighting tools and resources actually to defraud the public,\" said US Attorney Roslynn Mauskopf.\\n\\nMr Royer was convicted of racketeering, securities fraud, obstruction of justice and witness tampering. Mr Elgindy was convicted of racketeering, securities fraud and extortion.\\n\\nThe charges carry sentences of up to 20 years. When the guilty verdict was announced by the jury foreman, Mr Elgindy dropped his face into his hands and sobbed, the Associated Press news agency reported. He was led weeping from the court room by US marshals, AP said. Defense lawyers contended that Mr Royer had been feeding information to Mr Elgindy and another trader in an attempt to expose corporate fraud. Mr Elgindy\\'s team claimed that he also was fighting against corporate wrongdoing. \"Elgindy\\'s conviction marks the end of his public charade as a crusader against fraud in the market,\" said Ms Mauskopf. One of the more bizarre aspects of the trial focused on the claims that Mr Elgindy may have had foreknowledge of the 11 September terrorist attacks in New York and Washington. Mr Elgindy had been trying to sell stock prior to the attack and had predicted a slump in the market. No charges were brought in relation to these allegations.\\n'"
            ]
          },
          "metadata": {
            "tags": []
          },
          "execution_count": 24
        }
      ]
    },
    {
      "cell_type": "code",
      "metadata": {
        "id": "y05IAZiQLmAn"
      },
      "source": [
        "news_df['news']=news_df['news'].astype('str')"
      ],
      "execution_count": 27,
      "outputs": []
    },
    {
      "cell_type": "code",
      "metadata": {
        "id": "4j4zmlfVoagw"
      },
      "source": [
        "def remove_punctuations(text):\r\n",
        "    for punctuation in string.punctuation:\r\n",
        "        text = text.replace(punctuation, '')\r\n",
        "    return text"
      ],
      "execution_count": 28,
      "outputs": []
    },
    {
      "cell_type": "code",
      "metadata": {
        "id": "c1Y1Y5dQpGGt"
      },
      "source": [
        "news_df[\"filtered\"] = news_df['news'].apply(remove_punctuations)"
      ],
      "execution_count": 29,
      "outputs": []
    },
    {
      "cell_type": "code",
      "metadata": {
        "id": "A1jrRWAAyDmd",
        "colab": {
          "base_uri": "https://localhost:8080/",
          "height": 402
        },
        "outputId": "248752e2-91d9-4147-de37-aa7412385332"
      },
      "source": [
        "news_df"
      ],
      "execution_count": 30,
      "outputs": [
        {
          "output_type": "execute_result",
          "data": {
            "text/html": [
              "<div>\n",
              "<style scoped>\n",
              "    .dataframe tbody tr th:only-of-type {\n",
              "        vertical-align: middle;\n",
              "    }\n",
              "\n",
              "    .dataframe tbody tr th {\n",
              "        vertical-align: top;\n",
              "    }\n",
              "\n",
              "    .dataframe thead th {\n",
              "        text-align: right;\n",
              "    }\n",
              "</style>\n",
              "<table border=\"1\" class=\"dataframe\">\n",
              "  <thead>\n",
              "    <tr style=\"text-align: right;\">\n",
              "      <th></th>\n",
              "      <th>news</th>\n",
              "      <th>type</th>\n",
              "      <th>filtered</th>\n",
              "    </tr>\n",
              "  </thead>\n",
              "  <tbody>\n",
              "    <tr>\n",
              "      <th>0</th>\n",
              "      <td>b'FBI agent colludes with analyst\\n\\nA former ...</td>\n",
              "      <td>business</td>\n",
              "      <td>bFBI agent colludes with analystnnA former FBI...</td>\n",
              "    </tr>\n",
              "    <tr>\n",
              "      <th>1</th>\n",
              "      <td>b\"India's Maruti sees profits jump\\n\\nIndia's ...</td>\n",
              "      <td>business</td>\n",
              "      <td>bIndias Maruti sees profits jumpnnIndias bigge...</td>\n",
              "    </tr>\n",
              "    <tr>\n",
              "      <th>2</th>\n",
              "      <td>b'UK young top Euro earnings league\\n\\nBritish...</td>\n",
              "      <td>business</td>\n",
              "      <td>bUK young top Euro earnings leaguennBritish ch...</td>\n",
              "    </tr>\n",
              "    <tr>\n",
              "      <th>3</th>\n",
              "      <td>b'Virgin Blue shares plummet 20%\\n\\nShares in ...</td>\n",
              "      <td>business</td>\n",
              "      <td>bVirgin Blue shares plummet 20nnShares in Aust...</td>\n",
              "    </tr>\n",
              "    <tr>\n",
              "      <th>4</th>\n",
              "      <td>b'China suspends 26 power projects\\n\\nChina ha...</td>\n",
              "      <td>business</td>\n",
              "      <td>bChina suspends 26 power projectsnnChina has o...</td>\n",
              "    </tr>\n",
              "    <tr>\n",
              "      <th>...</th>\n",
              "      <td>...</td>\n",
              "      <td>...</td>\n",
              "      <td>...</td>\n",
              "    </tr>\n",
              "    <tr>\n",
              "      <th>2220</th>\n",
              "      <td>b'Games win for Blu-ray DVD format\\n\\nThe next...</td>\n",
              "      <td>tech</td>\n",
              "      <td>bGames win for Bluray DVD formatnnThe nextgene...</td>\n",
              "    </tr>\n",
              "    <tr>\n",
              "      <th>2221</th>\n",
              "      <td>b'File-swappers ready new network\\n\\nLegal att...</td>\n",
              "      <td>tech</td>\n",
              "      <td>bFileswappers ready new networknnLegal attacks...</td>\n",
              "    </tr>\n",
              "    <tr>\n",
              "      <th>2222</th>\n",
              "      <td>b'US blogger fired by her airline\\n\\nA US airl...</td>\n",
              "      <td>tech</td>\n",
              "      <td>bUS blogger fired by her airlinennA US airline...</td>\n",
              "    </tr>\n",
              "    <tr>\n",
              "      <th>2223</th>\n",
              "      <td>b'Tough rules for ringtone sellers\\n\\nFirms th...</td>\n",
              "      <td>tech</td>\n",
              "      <td>bTough rules for ringtone sellersnnFirms that ...</td>\n",
              "    </tr>\n",
              "    <tr>\n",
              "      <th>2224</th>\n",
              "      <td>b'China \\'to overtake US net use\\'\\n\\nThe Chin...</td>\n",
              "      <td>tech</td>\n",
              "      <td>bChina to overtake US net usennThe Chinese net...</td>\n",
              "    </tr>\n",
              "  </tbody>\n",
              "</table>\n",
              "<p>2225 rows × 3 columns</p>\n",
              "</div>"
            ],
            "text/plain": [
              "                                                   news  ...                                           filtered\n",
              "0     b'FBI agent colludes with analyst\\n\\nA former ...  ...  bFBI agent colludes with analystnnA former FBI...\n",
              "1     b\"India's Maruti sees profits jump\\n\\nIndia's ...  ...  bIndias Maruti sees profits jumpnnIndias bigge...\n",
              "2     b'UK young top Euro earnings league\\n\\nBritish...  ...  bUK young top Euro earnings leaguennBritish ch...\n",
              "3     b'Virgin Blue shares plummet 20%\\n\\nShares in ...  ...  bVirgin Blue shares plummet 20nnShares in Aust...\n",
              "4     b'China suspends 26 power projects\\n\\nChina ha...  ...  bChina suspends 26 power projectsnnChina has o...\n",
              "...                                                 ...  ...                                                ...\n",
              "2220  b'Games win for Blu-ray DVD format\\n\\nThe next...  ...  bGames win for Bluray DVD formatnnThe nextgene...\n",
              "2221  b'File-swappers ready new network\\n\\nLegal att...  ...  bFileswappers ready new networknnLegal attacks...\n",
              "2222  b'US blogger fired by her airline\\n\\nA US airl...  ...  bUS blogger fired by her airlinennA US airline...\n",
              "2223  b'Tough rules for ringtone sellers\\n\\nFirms th...  ...  bTough rules for ringtone sellersnnFirms that ...\n",
              "2224  b'China \\'to overtake US net use\\'\\n\\nThe Chin...  ...  bChina to overtake US net usennThe Chinese net...\n",
              "\n",
              "[2225 rows x 3 columns]"
            ]
          },
          "metadata": {
            "tags": []
          },
          "execution_count": 30
        }
      ]
    },
    {
      "cell_type": "code",
      "metadata": {
        "colab": {
          "base_uri": "https://localhost:8080/",
          "height": 120
        },
        "id": "EHVzgUclMHVX",
        "outputId": "ca338c41-78e2-4aba-8a63-511b46f147c5"
      },
      "source": [
        "news_df['filtered'][0]"
      ],
      "execution_count": 31,
      "outputs": [
        {
          "output_type": "execute_result",
          "data": {
            "application/vnd.google.colaboratory.intrinsic+json": {
              "type": "string"
            },
            "text/plain": [
              "'bFBI agent colludes with analystnnA former FBI agent and an internet stock picker have been found guilty of using confidential US government information to manipulate stock pricesnnA New York court ruled that former FBI man Jeffrey Royer 41 fed damaging information to Anthony Elgindy 36 Mr Elgindy then drove share prices lower by spreading negative publicity via his newsletter The Egyptianborn analyst would extort money from his targets in return for stopping the attacks prosecutors said Under the guise of protecting investors from fraud Royer and Elgindy used the FBIs crimefighting tools and resources actually to defraud the public said US Attorney Roslynn MauskopfnnMr Royer was convicted of racketeering securities fraud obstruction of justice and witness tampering Mr Elgindy was convicted of racketeering securities fraud and extortionnnThe charges carry sentences of up to 20 years When the guilty verdict was announced by the jury foreman Mr Elgindy dropped his face into his hands and sobbed the Associated Press news agency reported He was led weeping from the court room by US marshals AP said Defense lawyers contended that Mr Royer had been feeding information to Mr Elgindy and another trader in an attempt to expose corporate fraud Mr Elgindys team claimed that he also was fighting against corporate wrongdoing Elgindys conviction marks the end of his public charade as a crusader against fraud in the market said Ms Mauskopf One of the more bizarre aspects of the trial focused on the claims that Mr Elgindy may have had foreknowledge of the 11 September terrorist attacks in New York and Washington Mr Elgindy had been trying to sell stock prior to the attack and had predicted a slump in the market No charges were brought in relation to these allegationsn'"
            ]
          },
          "metadata": {
            "tags": []
          },
          "execution_count": 31
        }
      ]
    },
    {
      "cell_type": "code",
      "metadata": {
        "id": "p2hQUKNlM-6W"
      },
      "source": [
        ""
      ],
      "execution_count": null,
      "outputs": []
    }
  ]
}